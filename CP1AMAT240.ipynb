{
  "nbformat": 4,
  "nbformat_minor": 0,
  "metadata": {
    "colab": {
      "provenance": [],
      "authorship_tag": "ABX9TyMjz+3fCPGQ3oAPGTq24H7k",
      "include_colab_link": true
    },
    "kernelspec": {
      "name": "python3",
      "display_name": "Python 3"
    },
    "language_info": {
      "name": "python"
    }
  },
  "cells": [
    {
      "cell_type": "markdown",
      "metadata": {
        "id": "view-in-github",
        "colab_type": "text"
      },
      "source": [
        "<a href=\"https://colab.research.google.com/github/thewilzman/Area-calculator-program/blob/main/CP1AMAT240.ipynb\" target=\"_parent\"><img src=\"https://colab.research.google.com/assets/colab-badge.svg\" alt=\"Open In Colab\"/></a>"
      ]
    },
    {
      "cell_type": "code",
      "execution_count": 5,
      "metadata": {
        "id": "xvxJj_sPdiQs"
      },
      "outputs": [],
      "source": [
        "import numpy as np\n",
        "\n",
        "np.set_printoptions(precision=6)"
      ]
    },
    {
      "cell_type": "code",
      "source": [
        "A = np.array([[1, 2], [3, 4], [5, 6]])\n",
        "B = np.array([[1, 2, 3], [4, 5, 6], [7, 8, 9]])\n",
        "print(\"Matrix A:\\n\",A)\n",
        "print(\"Matrix B:\\n\",B)\n"
      ],
      "metadata": {
        "colab": {
          "base_uri": "https://localhost:8080/"
        },
        "id": "9LHObxApfBRD",
        "outputId": "578ecb89-1ca4-4890-d5ec-814b855a58c3"
      },
      "execution_count": 16,
      "outputs": [
        {
          "output_type": "stream",
          "name": "stdout",
          "text": [
            "Matrix A:\n",
            " [[1 2]\n",
            " [3 4]\n",
            " [5 6]]\n",
            "Matrix B:\n",
            " [[1 2 3]\n",
            " [4 5 6]\n",
            " [7 8 9]]\n"
          ]
        }
      ]
    },
    {
      "cell_type": "code",
      "source": [
        "x = np.array([4, 3, 2])\n",
        "X = np.array([[1], [2], [3]])\n",
        "print(\"Row vector x:\\n\",x)\n",
        "\n",
        "print(\"Column vector X:\")\n",
        "print(X)"
      ],
      "metadata": {
        "colab": {
          "base_uri": "https://localhost:8080/"
        },
        "id": "obnFxa1AgUwI",
        "outputId": "25969a7d-102c-4aaf-d325-a5d152d47b32"
      },
      "execution_count": 10,
      "outputs": [
        {
          "output_type": "stream",
          "name": "stdout",
          "text": [
            "Row vector x:\n",
            " [4 3 2]\n",
            "Column vector X:\n",
            "[[1]\n",
            " [2]\n",
            " [3]]\n"
          ]
        }
      ]
    },
    {
      "cell_type": "code",
      "source": [
        "print(\"Shape of A\\n\",A.shape)\n",
        "print(\"Shape of B\\n\",B.shape)\n",
        "print(\"Shape of x\\n\",x.shape)\n",
        "print(\"Shape of X\\n\", X.shape)"
      ],
      "metadata": {
        "colab": {
          "base_uri": "https://localhost:8080/"
        },
        "id": "Z5qtcpKzh7Ki",
        "outputId": "30124ed7-9822-41f5-b100-ed6709b901a5"
      },
      "execution_count": 11,
      "outputs": [
        {
          "output_type": "stream",
          "name": "stdout",
          "text": [
            "Shape of A\n",
            " (3, 2)\n",
            "Shape of B\n",
            " (3, 3)\n",
            "Shape of x\n",
            " (3,)\n",
            "Shape of X\n",
            " (3, 1)\n"
          ]
        }
      ]
    },
    {
      "cell_type": "code",
      "source": [
        "a22 = A[1, 1]\n",
        "print(\"A[1, 1] = a22:\", a22)"
      ],
      "metadata": {
        "colab": {
          "base_uri": "https://localhost:8080/"
        },
        "id": "dI-3WukGi6lK",
        "outputId": "649d2f5e-c8b6-4f02-8e83-8f57652c77b0"
      },
      "execution_count": 12,
      "outputs": [
        {
          "output_type": "stream",
          "name": "stdout",
          "text": [
            "A[1, 1] = a22: 4\n"
          ]
        }
      ]
    },
    {
      "cell_type": "code",
      "source": [
        "firstRowB = B [0, :]\n",
        "secondColB = B[:, 1]\n",
        "print(\"First row of B:\", firstRowB)\n",
        "print(\"Second column of B:\", secondColB)"
      ],
      "metadata": {
        "colab": {
          "base_uri": "https://localhost:8080/"
        },
        "id": "YZHVoPgTkC5b",
        "outputId": "3d96d833-3248-4825-c718-a32830feaac0"
      },
      "execution_count": 13,
      "outputs": [
        {
          "output_type": "stream",
          "name": "stdout",
          "text": [
            "First row of B: [1 2 3]\n",
            "Second column of B: [2 5 8]\n"
          ]
        }
      ]
    },
    {
      "cell_type": "code",
      "source": [
        "I3 = np.eye(3)\n",
        "zeros3d = np.zeros(3)\n",
        "zeros3x2 = np.zeros((3,2))\n",
        "ones3x4 = np.ones((3,4))\n",
        "diagonal4x4 = np.diag([1,2,3,4])\n",
        "print(\"3x3 Identity:\")\n",
        "print(I3)\n",
        "print(\"3D vector of zeros:\")\n",
        "print(zeros3d)\n",
        "print(\"3x2 matrix of zeros:\")\n",
        "print(zeros3x2)\n",
        "print(\"3x4 matrix of ones:\")\n",
        "print(ones3x4)\n",
        "print(\"4x4 diagonal matrix:\")\n",
        "print(diagonal4x4)"
      ],
      "metadata": {
        "colab": {
          "base_uri": "https://localhost:8080/"
        },
        "id": "G4izxZ3rlMlA",
        "outputId": "74ec9984-7155-443e-9318-82792626cab8"
      },
      "execution_count": 14,
      "outputs": [
        {
          "output_type": "stream",
          "name": "stdout",
          "text": [
            "3x3 Identity:\n",
            "[[1. 0. 0.]\n",
            " [0. 1. 0.]\n",
            " [0. 0. 1.]]\n",
            "3D vector of zeros:\n",
            "[0. 0. 0.]\n",
            "3x2 matrix of zeros:\n",
            "[[0. 0.]\n",
            " [0. 0.]\n",
            " [0. 0.]]\n",
            "3x4 matrix of ones:\n",
            "[[1. 1. 1. 1.]\n",
            " [1. 1. 1. 1.]\n",
            " [1. 1. 1. 1.]]\n",
            "4x4 diagonal matrix:\n",
            "[[1 0 0 0]\n",
            " [0 2 0 0]\n",
            " [0 0 3 0]\n",
            " [0 0 0 4]]\n"
          ]
        }
      ]
    },
    {
      "cell_type": "code",
      "source": [
        "y = np.random.uniform(0, 1, 3)\n",
        "z = np.random.uniform(0, 1, 3)\n",
        "print(\"Vector y:\", y)\n",
        "print(\"Vector z:\", z)\n",
        "print(\"y + z:\", y + z)\n",
        "print(\"6y:\", 6 * y)\n",
        "\n",
        "C = np.random.uniform(0, 1, (3,3))\n",
        "D = np.random.uniform(0, 1, (3,3))\n",
        "print(\"Matrix C:\\n\",C)\n",
        "print(\"Matrix D:\\n\",D)\n",
        "print(\"C - D:\\n\",C-D)\n",
        "print(\"4C:\", 4*C)\n"
      ],
      "metadata": {
        "colab": {
          "base_uri": "https://localhost:8080/"
        },
        "id": "-4ksWMhMm2Ic",
        "outputId": "039e00a1-d600-4eef-c4b6-18b4190ff224"
      },
      "execution_count": 18,
      "outputs": [
        {
          "output_type": "stream",
          "name": "stdout",
          "text": [
            "Vector y: [0.57749  0.781901 0.106503]\n",
            "Vector z: [0.279394 0.439598 0.862364]\n",
            "y + z: [0.856884 1.221499 0.968867]\n",
            "6y: [3.464942 4.691405 0.639021]\n",
            "Matrix C:\n",
            " [[0.741292 0.078552 0.468643]\n",
            " [0.015232 0.378594 0.472476]\n",
            " [0.317829 0.753677 0.340307]]\n",
            "Matrix D:\n",
            " [[0.296036 0.366734 0.138354]\n",
            " [0.096462 0.038092 0.995395]\n",
            " [0.435775 0.634486 0.602815]]\n",
            "C - D:\n",
            " [[ 0.445256 -0.288182  0.33029 ]\n",
            " [-0.081231  0.340502 -0.522919]\n",
            " [-0.117945  0.119191 -0.262509]]\n",
            "4C: [[2.965167 0.314209 1.874574]\n",
            " [0.060927 1.514377 1.889904]\n",
            " [1.271317 3.014708 1.361227]]\n"
          ]
        }
      ]
    },
    {
      "cell_type": "code",
      "source": [
        "dotProductYZ = np.dot(y, z)\n",
        "normY = np.linalg.norm(y)\n",
        "print(\"Dot Product y .z :\\n\", dotProductYZ)\n",
        "print(\"Norm of y:\\n\", normY)"
      ],
      "metadata": {
        "colab": {
          "base_uri": "https://localhost:8080/"
        },
        "id": "98irG-CCoVV7",
        "outputId": "0f44d785-cd8d-4fa1-bb40-5af3cbcef74a"
      },
      "execution_count": 19,
      "outputs": [
        {
          "output_type": "stream",
          "name": "stdout",
          "text": [
            "Dot Product y .z :\n",
            " 0.5969136021459734\n",
            "Norm of y:\n",
            " 0.977858384452492\n"
          ]
        }
      ]
    },
    {
      "cell_type": "code",
      "source": [
        "Acol =  np.array([[1], [2], [3], [1]])\n",
        "Brow = np.array([[-1, 2, 1, 4]])\n",
        "AB = np.dot(Acol, Brow)\n",
        "BA = np.dot(Brow, Acol)\n",
        "AB10 = np.linalg.matrix_power(AB, 10)\n",
        "\n",
        "print(\"AB:\\n\",AB)\n",
        "print(\"BA:\\n\",BA)\n",
        "print(\"(AB)^10:\\n\",AB10)\n"
      ],
      "metadata": {
        "colab": {
          "base_uri": "https://localhost:8080/"
        },
        "id": "xQDjdKeIps9q",
        "outputId": "0e23b325-3a7b-4620-cb1b-8800390f88a9"
      },
      "execution_count": 21,
      "outputs": [
        {
          "output_type": "stream",
          "name": "stdout",
          "text": [
            "AB:\n",
            " [[-1  2  1  4]\n",
            " [-2  4  2  8]\n",
            " [-3  6  3 12]\n",
            " [-1  2  1  4]]\n",
            "BA:\n",
            " [[10]]\n",
            "(AB)^10:\n",
            " [[-1000000000  2000000000  1000000000  4000000000]\n",
            " [-2000000000  4000000000  2000000000  8000000000]\n",
            " [-3000000000  6000000000  3000000000 12000000000]\n",
            " [-1000000000  2000000000  1000000000  4000000000]]\n"
          ]
        }
      ]
    },
    {
      "cell_type": "markdown",
      "source": [
        "For calculating manually (AB)^10 without a computer, we know that (AB)^10= A*(BA)^9 *B\n",
        "rank -1 exploit: AB has only one independent row, so powers don't grow complexity, they just scale.\n"
      ],
      "metadata": {
        "id": "P6NPoWaks5pZ"
      }
    }
  ]
}